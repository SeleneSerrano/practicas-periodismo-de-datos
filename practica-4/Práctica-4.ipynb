{
 "cells": [
  {
   "cell_type": "markdown",
   "metadata": {},
   "source": [
    "# Análisis del Presupuesto funcional de los ingresos del Ayuntamiento de Alcobendas 2022"
   ]
  },
  {
   "cell_type": "markdown",
   "metadata": {},
   "source": [
    "## Ahora vamos a instalar las librerías con las que trabajaremos. "
   ]
  },
  {
   "cell_type": "code",
   "execution_count": 2,
   "metadata": {},
   "outputs": [
    {
     "name": "stdout",
     "output_type": "stream",
     "text": [
      "Requirement already satisfied: pandas in /usr/local/lib/python3.8/dist-packages (1.3.1)\r\n",
      "Requirement already satisfied: numpy>=1.17.3 in /usr/local/lib/python3.8/dist-packages (from pandas) (1.21.1)\r\n",
      "Requirement already satisfied: pytz>=2017.3 in /usr/local/lib/python3.8/dist-packages (from pandas) (2020.4)\r\n",
      "Requirement already satisfied: python-dateutil>=2.7.3 in /usr/local/lib/python3.8/dist-packages (from pandas) (2.8.1)\r\n",
      "Requirement already satisfied: six>=1.5 in /usr/lib/python3/dist-packages (from python-dateutil>=2.7.3->pandas) (1.14.0)\r\n"
     ]
    }
   ],
   "source": [
    "!pip install pandas"
   ]
  },
  {
   "cell_type": "markdown",
   "metadata": {},
   "source": [
    "## Después vamos a configurarlo para poder empezar a usarlo. "
   ]
  },
  {
   "cell_type": "markdown",
   "metadata": {},
   "source": [
    "### Así también importamos pandas y le damos el nombre de \"pd\" usando \"as\""
   ]
  },
  {
   "cell_type": "code",
   "execution_count": 4,
   "metadata": {},
   "outputs": [],
   "source": [
    "import pandas as pd"
   ]
  },
  {
   "cell_type": "markdown",
   "metadata": {},
   "source": [
    "### Ahora creamos las variables que vamos a ir utilizando."
   ]
  },
  {
   "cell_type": "code",
   "execution_count": 7,
   "metadata": {},
   "outputs": [],
   "source": [
    "url_movilidad = \"https://datos.alcobendas.org/dataset/f4e12b31-2f87-4f37-877d-2ad7d7088e68/resource/6f3a9f0b-6a96-4615-ad08-9addaf0431e7/download/presupuesto-economico-ingresos-2022.-normalizado.csv\""
   ]
  },
  {
   "cell_type": "markdown",
   "metadata": {},
   "source": [
    "### Comprobamos que la variable se ha creado"
   ]
  },
  {
   "cell_type": "code",
   "execution_count": 8,
   "metadata": {},
   "outputs": [
    {
     "data": {
      "text/plain": [
       "'https://datos.alcobendas.org/dataset/f4e12b31-2f87-4f37-877d-2ad7d7088e68/resource/6f3a9f0b-6a96-4615-ad08-9addaf0431e7/download/presupuesto-economico-ingresos-2022.-normalizado.csv'"
      ]
     },
     "execution_count": 8,
     "metadata": {},
     "output_type": "execute_result"
    }
   ],
   "source": [
    "url_movilidad"
   ]
  },
  {
   "cell_type": "markdown",
   "metadata": {},
   "source": [
    "## Creación de un Dataframe (o una tabla)"
   ]
  },
  {
   "cell_type": "markdown",
   "metadata": {},
   "source": [
    "### Para la creación de esta usamos \"df\" de \"dataframe\" y lo igualamos a la dirección que le hemos dado a la URL de la base de datos"
   ]
  },
  {
   "cell_type": "code",
   "execution_count": 10,
   "metadata": {},
   "outputs": [],
   "source": [
    "df = pd.read_csv(url_movilidad)"
   ]
  },
  {
   "cell_type": "markdown",
   "metadata": {},
   "source": [
    "### A continuación mostramos lo que hemos creado usando solo \"df\""
   ]
  },
  {
   "cell_type": "code",
   "execution_count": 11,
   "metadata": {},
   "outputs": [
    {
     "data": {
      "text/html": [
       "<div>\n",
       "<style scoped>\n",
       "    .dataframe tbody tr th:only-of-type {\n",
       "        vertical-align: middle;\n",
       "    }\n",
       "\n",
       "    .dataframe tbody tr th {\n",
       "        vertical-align: top;\n",
       "    }\n",
       "\n",
       "    .dataframe thead th {\n",
       "        text-align: right;\n",
       "    }\n",
       "</style>\n",
       "<table border=\"1\" class=\"dataframe\">\n",
       "  <thead>\n",
       "    <tr style=\"text-align: right;\">\n",
       "      <th></th>\n",
       "      <th>Código</th>\n",
       "      <th>Nombre</th>\n",
       "      <th>Crédito inicial del ejercicio</th>\n",
       "    </tr>\n",
       "  </thead>\n",
       "  <tbody>\n",
       "    <tr>\n",
       "      <th>0</th>\n",
       "      <td>NaN</td>\n",
       "      <td>Clasificación económica de ingresos</td>\n",
       "      <td>1.911289e+08</td>\n",
       "    </tr>\n",
       "    <tr>\n",
       "      <th>1</th>\n",
       "      <td>1.0</td>\n",
       "      <td>IMPUESTOS DIRECTOS</td>\n",
       "      <td>7.930614e+07</td>\n",
       "    </tr>\n",
       "    <tr>\n",
       "      <th>2</th>\n",
       "      <td>10.0</td>\n",
       "      <td>Impuesto sobre la Renta</td>\n",
       "      <td>9.432241e+06</td>\n",
       "    </tr>\n",
       "    <tr>\n",
       "      <th>3</th>\n",
       "      <td>100.0</td>\n",
       "      <td>Impuestos sobre la Renta de las Personas Físicas</td>\n",
       "      <td>9.432241e+06</td>\n",
       "    </tr>\n",
       "    <tr>\n",
       "      <th>4</th>\n",
       "      <td>101.0</td>\n",
       "      <td>Impuesto sobre Sociedades</td>\n",
       "      <td>0.000000e+00</td>\n",
       "    </tr>\n",
       "    <tr>\n",
       "      <th>...</th>\n",
       "      <td>...</td>\n",
       "      <td>...</td>\n",
       "      <td>...</td>\n",
       "    </tr>\n",
       "    <tr>\n",
       "      <th>325</th>\n",
       "      <td>930.0</td>\n",
       "      <td>Préstamos recibidos en moneda distinta del eur...</td>\n",
       "      <td>0.000000e+00</td>\n",
       "    </tr>\n",
       "    <tr>\n",
       "      <th>326</th>\n",
       "      <td>931.0</td>\n",
       "      <td>Préstamos recibidos en moneda distinta del eur...</td>\n",
       "      <td>0.000000e+00</td>\n",
       "    </tr>\n",
       "    <tr>\n",
       "      <th>327</th>\n",
       "      <td>94.0</td>\n",
       "      <td>Depósitos y fianzas recibidos</td>\n",
       "      <td>0.000000e+00</td>\n",
       "    </tr>\n",
       "    <tr>\n",
       "      <th>328</th>\n",
       "      <td>940.0</td>\n",
       "      <td>Depósitos recibidos</td>\n",
       "      <td>0.000000e+00</td>\n",
       "    </tr>\n",
       "    <tr>\n",
       "      <th>329</th>\n",
       "      <td>941.0</td>\n",
       "      <td>Fianzas recibidas</td>\n",
       "      <td>0.000000e+00</td>\n",
       "    </tr>\n",
       "  </tbody>\n",
       "</table>\n",
       "<p>330 rows × 3 columns</p>\n",
       "</div>"
      ],
      "text/plain": [
       "     Código                                             Nombre  \\\n",
       "0       NaN                Clasificación económica de ingresos   \n",
       "1       1.0                                 IMPUESTOS DIRECTOS   \n",
       "2      10.0                            Impuesto sobre la Renta   \n",
       "3     100.0   Impuestos sobre la Renta de las Personas Físicas   \n",
       "4     101.0                          Impuesto sobre Sociedades   \n",
       "..      ...                                                ...   \n",
       "325   930.0  Préstamos recibidos en moneda distinta del eur...   \n",
       "326   931.0  Préstamos recibidos en moneda distinta del eur...   \n",
       "327    94.0                      Depósitos y fianzas recibidos   \n",
       "328   940.0                                Depósitos recibidos   \n",
       "329   941.0                                  Fianzas recibidas   \n",
       "\n",
       "     Crédito inicial del ejercicio  \n",
       "0                     1.911289e+08  \n",
       "1                     7.930614e+07  \n",
       "2                     9.432241e+06  \n",
       "3                     9.432241e+06  \n",
       "4                     0.000000e+00  \n",
       "..                             ...  \n",
       "325                   0.000000e+00  \n",
       "326                   0.000000e+00  \n",
       "327                   0.000000e+00  \n",
       "328                   0.000000e+00  \n",
       "329                   0.000000e+00  \n",
       "\n",
       "[330 rows x 3 columns]"
      ]
     },
     "execution_count": 11,
     "metadata": {},
     "output_type": "execute_result"
    }
   ],
   "source": [
    "df"
   ]
  },
  {
   "cell_type": "markdown",
   "metadata": {},
   "source": [
    "### Ahora empezamos a explorar la tabla (o el data frame)"
   ]
  },
  {
   "cell_type": "markdown",
   "metadata": {},
   "source": [
    "Usamos df.info() para ver la información que nos da el data frame"
   ]
  },
  {
   "cell_type": "code",
   "execution_count": 12,
   "metadata": {},
   "outputs": [
    {
     "name": "stdout",
     "output_type": "stream",
     "text": [
      "<class 'pandas.core.frame.DataFrame'>\n",
      "RangeIndex: 330 entries, 0 to 329\n",
      "Data columns (total 3 columns):\n",
      " #   Column                         Non-Null Count  Dtype  \n",
      "---  ------                         --------------  -----  \n",
      " 0   Código                         329 non-null    float64\n",
      " 1   Nombre                         330 non-null    object \n",
      " 2   Crédito inicial del ejercicio  330 non-null    float64\n",
      "dtypes: float64(2), object(1)\n",
      "memory usage: 7.9+ KB\n"
     ]
    }
   ],
   "source": [
    "df.info()"
   ]
  },
  {
   "cell_type": "markdown",
   "metadata": {},
   "source": [
    "## Establecer la cabecera"
   ]
  },
  {
   "cell_type": "markdown",
   "metadata": {},
   "source": [
    "Como vimos en la práctica anterior, usamos head para ver la cabecera de la tabla (los primeros datos)"
   ]
  },
  {
   "cell_type": "code",
   "execution_count": 13,
   "metadata": {},
   "outputs": [
    {
     "data": {
      "text/html": [
       "<div>\n",
       "<style scoped>\n",
       "    .dataframe tbody tr th:only-of-type {\n",
       "        vertical-align: middle;\n",
       "    }\n",
       "\n",
       "    .dataframe tbody tr th {\n",
       "        vertical-align: top;\n",
       "    }\n",
       "\n",
       "    .dataframe thead th {\n",
       "        text-align: right;\n",
       "    }\n",
       "</style>\n",
       "<table border=\"1\" class=\"dataframe\">\n",
       "  <thead>\n",
       "    <tr style=\"text-align: right;\">\n",
       "      <th></th>\n",
       "      <th>Código</th>\n",
       "      <th>Nombre</th>\n",
       "      <th>Crédito inicial del ejercicio</th>\n",
       "    </tr>\n",
       "  </thead>\n",
       "  <tbody>\n",
       "    <tr>\n",
       "      <th>0</th>\n",
       "      <td>NaN</td>\n",
       "      <td>Clasificación económica de ingresos</td>\n",
       "      <td>1.911289e+08</td>\n",
       "    </tr>\n",
       "    <tr>\n",
       "      <th>1</th>\n",
       "      <td>1.0</td>\n",
       "      <td>IMPUESTOS DIRECTOS</td>\n",
       "      <td>7.930614e+07</td>\n",
       "    </tr>\n",
       "    <tr>\n",
       "      <th>2</th>\n",
       "      <td>10.0</td>\n",
       "      <td>Impuesto sobre la Renta</td>\n",
       "      <td>9.432241e+06</td>\n",
       "    </tr>\n",
       "    <tr>\n",
       "      <th>3</th>\n",
       "      <td>100.0</td>\n",
       "      <td>Impuestos sobre la Renta de las Personas Físicas</td>\n",
       "      <td>9.432241e+06</td>\n",
       "    </tr>\n",
       "    <tr>\n",
       "      <th>4</th>\n",
       "      <td>101.0</td>\n",
       "      <td>Impuesto sobre Sociedades</td>\n",
       "      <td>0.000000e+00</td>\n",
       "    </tr>\n",
       "  </tbody>\n",
       "</table>\n",
       "</div>"
      ],
      "text/plain": [
       "   Código                                            Nombre  \\\n",
       "0     NaN               Clasificación económica de ingresos   \n",
       "1     1.0                                IMPUESTOS DIRECTOS   \n",
       "2    10.0                           Impuesto sobre la Renta   \n",
       "3   100.0  Impuestos sobre la Renta de las Personas Físicas   \n",
       "4   101.0                         Impuesto sobre Sociedades   \n",
       "\n",
       "   Crédito inicial del ejercicio  \n",
       "0                   1.911289e+08  \n",
       "1                   7.930614e+07  \n",
       "2                   9.432241e+06  \n",
       "3                   9.432241e+06  \n",
       "4                   0.000000e+00  "
      ]
     },
     "execution_count": 13,
     "metadata": {},
     "output_type": "execute_result"
    }
   ],
   "source": [
    "df.head()"
   ]
  },
  {
   "cell_type": "markdown",
   "metadata": {},
   "source": [
    "## Cola"
   ]
  },
  {
   "cell_type": "markdown",
   "metadata": {},
   "source": [
    "Ahora repetimos el proceso pero para ver los datos del final de la tabla (la cola)"
   ]
  },
  {
   "cell_type": "code",
   "execution_count": 14,
   "metadata": {},
   "outputs": [
    {
     "data": {
      "text/html": [
       "<div>\n",
       "<style scoped>\n",
       "    .dataframe tbody tr th:only-of-type {\n",
       "        vertical-align: middle;\n",
       "    }\n",
       "\n",
       "    .dataframe tbody tr th {\n",
       "        vertical-align: top;\n",
       "    }\n",
       "\n",
       "    .dataframe thead th {\n",
       "        text-align: right;\n",
       "    }\n",
       "</style>\n",
       "<table border=\"1\" class=\"dataframe\">\n",
       "  <thead>\n",
       "    <tr style=\"text-align: right;\">\n",
       "      <th></th>\n",
       "      <th>Código</th>\n",
       "      <th>Nombre</th>\n",
       "      <th>Crédito inicial del ejercicio</th>\n",
       "    </tr>\n",
       "  </thead>\n",
       "  <tbody>\n",
       "    <tr>\n",
       "      <th>325</th>\n",
       "      <td>930.0</td>\n",
       "      <td>Préstamos recibidos en moneda distinta del eur...</td>\n",
       "      <td>0.0</td>\n",
       "    </tr>\n",
       "    <tr>\n",
       "      <th>326</th>\n",
       "      <td>931.0</td>\n",
       "      <td>Préstamos recibidos en moneda distinta del eur...</td>\n",
       "      <td>0.0</td>\n",
       "    </tr>\n",
       "    <tr>\n",
       "      <th>327</th>\n",
       "      <td>94.0</td>\n",
       "      <td>Depósitos y fianzas recibidos</td>\n",
       "      <td>0.0</td>\n",
       "    </tr>\n",
       "    <tr>\n",
       "      <th>328</th>\n",
       "      <td>940.0</td>\n",
       "      <td>Depósitos recibidos</td>\n",
       "      <td>0.0</td>\n",
       "    </tr>\n",
       "    <tr>\n",
       "      <th>329</th>\n",
       "      <td>941.0</td>\n",
       "      <td>Fianzas recibidas</td>\n",
       "      <td>0.0</td>\n",
       "    </tr>\n",
       "  </tbody>\n",
       "</table>\n",
       "</div>"
      ],
      "text/plain": [
       "     Código                                             Nombre  \\\n",
       "325   930.0  Préstamos recibidos en moneda distinta del eur...   \n",
       "326   931.0  Préstamos recibidos en moneda distinta del eur...   \n",
       "327    94.0                      Depósitos y fianzas recibidos   \n",
       "328   940.0                                Depósitos recibidos   \n",
       "329   941.0                                  Fianzas recibidas   \n",
       "\n",
       "     Crédito inicial del ejercicio  \n",
       "325                            0.0  \n",
       "326                            0.0  \n",
       "327                            0.0  \n",
       "328                            0.0  \n",
       "329                            0.0  "
      ]
     },
     "execution_count": 14,
     "metadata": {},
     "output_type": "execute_result"
    }
   ],
   "source": [
    "df.tail()"
   ]
  },
  {
   "cell_type": "markdown",
   "metadata": {},
   "source": [
    "Entre paréntesis podemos poner el número de datos que queremos visualizar. Así:"
   ]
  },
  {
   "cell_type": "code",
   "execution_count": 15,
   "metadata": {},
   "outputs": [
    {
     "data": {
      "text/html": [
       "<div>\n",
       "<style scoped>\n",
       "    .dataframe tbody tr th:only-of-type {\n",
       "        vertical-align: middle;\n",
       "    }\n",
       "\n",
       "    .dataframe tbody tr th {\n",
       "        vertical-align: top;\n",
       "    }\n",
       "\n",
       "    .dataframe thead th {\n",
       "        text-align: right;\n",
       "    }\n",
       "</style>\n",
       "<table border=\"1\" class=\"dataframe\">\n",
       "  <thead>\n",
       "    <tr style=\"text-align: right;\">\n",
       "      <th></th>\n",
       "      <th>Código</th>\n",
       "      <th>Nombre</th>\n",
       "      <th>Crédito inicial del ejercicio</th>\n",
       "    </tr>\n",
       "  </thead>\n",
       "  <tbody>\n",
       "    <tr>\n",
       "      <th>326</th>\n",
       "      <td>931.0</td>\n",
       "      <td>Préstamos recibidos en moneda distinta del eur...</td>\n",
       "      <td>0.0</td>\n",
       "    </tr>\n",
       "    <tr>\n",
       "      <th>327</th>\n",
       "      <td>94.0</td>\n",
       "      <td>Depósitos y fianzas recibidos</td>\n",
       "      <td>0.0</td>\n",
       "    </tr>\n",
       "    <tr>\n",
       "      <th>328</th>\n",
       "      <td>940.0</td>\n",
       "      <td>Depósitos recibidos</td>\n",
       "      <td>0.0</td>\n",
       "    </tr>\n",
       "    <tr>\n",
       "      <th>329</th>\n",
       "      <td>941.0</td>\n",
       "      <td>Fianzas recibidas</td>\n",
       "      <td>0.0</td>\n",
       "    </tr>\n",
       "  </tbody>\n",
       "</table>\n",
       "</div>"
      ],
      "text/plain": [
       "     Código                                             Nombre  \\\n",
       "326   931.0  Préstamos recibidos en moneda distinta del eur...   \n",
       "327    94.0                      Depósitos y fianzas recibidos   \n",
       "328   940.0                                Depósitos recibidos   \n",
       "329   941.0                                  Fianzas recibidas   \n",
       "\n",
       "     Crédito inicial del ejercicio  \n",
       "326                            0.0  \n",
       "327                            0.0  \n",
       "328                            0.0  \n",
       "329                            0.0  "
      ]
     },
     "execution_count": 15,
     "metadata": {},
     "output_type": "execute_result"
    }
   ],
   "source": [
    "df.tail(4)"
   ]
  },
  {
   "cell_type": "markdown",
   "metadata": {},
   "source": [
    "## Columnas"
   ]
  },
  {
   "cell_type": "markdown",
   "metadata": {},
   "source": [
    "A continuación mostramos el nombre de las columnas a través de df.columns (en los datos que hemos escogido hay pocas columnas)"
   ]
  },
  {
   "cell_type": "code",
   "execution_count": 16,
   "metadata": {},
   "outputs": [
    {
     "data": {
      "text/plain": [
       "Index(['Código', 'Nombre', 'Crédito inicial del ejercicio'], dtype='object')"
      ]
     },
     "execution_count": 16,
     "metadata": {},
     "output_type": "execute_result"
    }
   ],
   "source": [
    "df.columns"
   ]
  },
  {
   "cell_type": "markdown",
   "metadata": {},
   "source": [
    "## Enseñar las variables"
   ]
  },
  {
   "cell_type": "markdown",
   "metadata": {},
   "source": [
    "Ahora usamos df_es.describe() para enseñar las variables de nuestra tabla. "
   ]
  },
  {
   "cell_type": "code",
   "execution_count": 22,
   "metadata": {},
   "outputs": [
    {
     "data": {
      "text/html": [
       "<div>\n",
       "<style scoped>\n",
       "    .dataframe tbody tr th:only-of-type {\n",
       "        vertical-align: middle;\n",
       "    }\n",
       "\n",
       "    .dataframe tbody tr th {\n",
       "        vertical-align: top;\n",
       "    }\n",
       "\n",
       "    .dataframe thead th {\n",
       "        text-align: right;\n",
       "    }\n",
       "</style>\n",
       "<table border=\"1\" class=\"dataframe\">\n",
       "  <thead>\n",
       "    <tr style=\"text-align: right;\">\n",
       "      <th></th>\n",
       "      <th>Código</th>\n",
       "      <th>Crédito inicial del ejercicio</th>\n",
       "    </tr>\n",
       "  </thead>\n",
       "  <tbody>\n",
       "    <tr>\n",
       "      <th>count</th>\n",
       "      <td>329.000000</td>\n",
       "      <td>3.300000e+02</td>\n",
       "    </tr>\n",
       "    <tr>\n",
       "      <th>mean</th>\n",
       "      <td>403.929514</td>\n",
       "      <td>2.415529e+06</td>\n",
       "    </tr>\n",
       "    <tr>\n",
       "      <th>std</th>\n",
       "      <td>275.541759</td>\n",
       "      <td>1.270834e+07</td>\n",
       "    </tr>\n",
       "    <tr>\n",
       "      <th>min</th>\n",
       "      <td>1.000000</td>\n",
       "      <td>0.000000e+00</td>\n",
       "    </tr>\n",
       "    <tr>\n",
       "      <th>25%</th>\n",
       "      <td>115.000000</td>\n",
       "      <td>0.000000e+00</td>\n",
       "    </tr>\n",
       "    <tr>\n",
       "      <th>50%</th>\n",
       "      <td>394.000000</td>\n",
       "      <td>0.000000e+00</td>\n",
       "    </tr>\n",
       "    <tr>\n",
       "      <th>75%</th>\n",
       "      <td>600.000000</td>\n",
       "      <td>1.892133e+05</td>\n",
       "    </tr>\n",
       "    <tr>\n",
       "      <th>max</th>\n",
       "      <td>941.000000</td>\n",
       "      <td>1.911289e+08</td>\n",
       "    </tr>\n",
       "  </tbody>\n",
       "</table>\n",
       "</div>"
      ],
      "text/plain": [
       "           Código  Crédito inicial del ejercicio\n",
       "count  329.000000                   3.300000e+02\n",
       "mean   403.929514                   2.415529e+06\n",
       "std    275.541759                   1.270834e+07\n",
       "min      1.000000                   0.000000e+00\n",
       "25%    115.000000                   0.000000e+00\n",
       "50%    394.000000                   0.000000e+00\n",
       "75%    600.000000                   1.892133e+05\n",
       "max    941.000000                   1.911289e+08"
      ]
     },
     "execution_count": 22,
     "metadata": {},
     "output_type": "execute_result"
    }
   ],
   "source": [
    "df.describe()"
   ]
  },
  {
   "cell_type": "markdown",
   "metadata": {},
   "source": [
    "## A continuación vamos a ordenar (indexar) basándonos en una columna"
   ]
  },
  {
   "cell_type": "markdown",
   "metadata": {},
   "source": [
    "Lo haremos a través de a variable \"Código\""
   ]
  },
  {
   "cell_type": "code",
   "execution_count": 24,
   "metadata": {},
   "outputs": [
    {
     "data": {
      "text/html": [
       "<div>\n",
       "<style scoped>\n",
       "    .dataframe tbody tr th:only-of-type {\n",
       "        vertical-align: middle;\n",
       "    }\n",
       "\n",
       "    .dataframe tbody tr th {\n",
       "        vertical-align: top;\n",
       "    }\n",
       "\n",
       "    .dataframe thead th {\n",
       "        text-align: right;\n",
       "    }\n",
       "</style>\n",
       "<table border=\"1\" class=\"dataframe\">\n",
       "  <thead>\n",
       "    <tr style=\"text-align: right;\">\n",
       "      <th></th>\n",
       "      <th>Nombre</th>\n",
       "      <th>Crédito inicial del ejercicio</th>\n",
       "    </tr>\n",
       "    <tr>\n",
       "      <th>Código</th>\n",
       "      <th></th>\n",
       "      <th></th>\n",
       "    </tr>\n",
       "  </thead>\n",
       "  <tbody>\n",
       "    <tr>\n",
       "      <th>NaN</th>\n",
       "      <td>Clasificación económica de ingresos</td>\n",
       "      <td>1.911289e+08</td>\n",
       "    </tr>\n",
       "    <tr>\n",
       "      <th>1.0</th>\n",
       "      <td>IMPUESTOS DIRECTOS</td>\n",
       "      <td>7.930614e+07</td>\n",
       "    </tr>\n",
       "    <tr>\n",
       "      <th>10.0</th>\n",
       "      <td>Impuesto sobre la Renta</td>\n",
       "      <td>9.432241e+06</td>\n",
       "    </tr>\n",
       "    <tr>\n",
       "      <th>100.0</th>\n",
       "      <td>Impuestos sobre la Renta de las Personas Físicas</td>\n",
       "      <td>9.432241e+06</td>\n",
       "    </tr>\n",
       "    <tr>\n",
       "      <th>101.0</th>\n",
       "      <td>Impuesto sobre Sociedades</td>\n",
       "      <td>0.000000e+00</td>\n",
       "    </tr>\n",
       "    <tr>\n",
       "      <th>...</th>\n",
       "      <td>...</td>\n",
       "      <td>...</td>\n",
       "    </tr>\n",
       "    <tr>\n",
       "      <th>930.0</th>\n",
       "      <td>Préstamos recibidos en moneda distinta del eur...</td>\n",
       "      <td>0.000000e+00</td>\n",
       "    </tr>\n",
       "    <tr>\n",
       "      <th>931.0</th>\n",
       "      <td>Préstamos recibidos en moneda distinta del eur...</td>\n",
       "      <td>0.000000e+00</td>\n",
       "    </tr>\n",
       "    <tr>\n",
       "      <th>94.0</th>\n",
       "      <td>Depósitos y fianzas recibidos</td>\n",
       "      <td>0.000000e+00</td>\n",
       "    </tr>\n",
       "    <tr>\n",
       "      <th>940.0</th>\n",
       "      <td>Depósitos recibidos</td>\n",
       "      <td>0.000000e+00</td>\n",
       "    </tr>\n",
       "    <tr>\n",
       "      <th>941.0</th>\n",
       "      <td>Fianzas recibidas</td>\n",
       "      <td>0.000000e+00</td>\n",
       "    </tr>\n",
       "  </tbody>\n",
       "</table>\n",
       "<p>330 rows × 2 columns</p>\n",
       "</div>"
      ],
      "text/plain": [
       "                                                   Nombre  \\\n",
       "Código                                                      \n",
       "NaN                   Clasificación económica de ingresos   \n",
       "1.0                                    IMPUESTOS DIRECTOS   \n",
       "10.0                              Impuesto sobre la Renta   \n",
       "100.0    Impuestos sobre la Renta de las Personas Físicas   \n",
       "101.0                           Impuesto sobre Sociedades   \n",
       "...                                                   ...   \n",
       "930.0   Préstamos recibidos en moneda distinta del eur...   \n",
       "931.0   Préstamos recibidos en moneda distinta del eur...   \n",
       "94.0                        Depósitos y fianzas recibidos   \n",
       "940.0                                 Depósitos recibidos   \n",
       "941.0                                   Fianzas recibidas   \n",
       "\n",
       "        Crédito inicial del ejercicio  \n",
       "Código                                 \n",
       "NaN                      1.911289e+08  \n",
       "1.0                      7.930614e+07  \n",
       "10.0                     9.432241e+06  \n",
       "100.0                    9.432241e+06  \n",
       "101.0                    0.000000e+00  \n",
       "...                               ...  \n",
       "930.0                    0.000000e+00  \n",
       "931.0                    0.000000e+00  \n",
       "94.0                     0.000000e+00  \n",
       "940.0                    0.000000e+00  \n",
       "941.0                    0.000000e+00  \n",
       "\n",
       "[330 rows x 2 columns]"
      ]
     },
     "execution_count": 24,
     "metadata": {},
     "output_type": "execute_result"
    }
   ],
   "source": [
    "df.set_index('Código')"
   ]
  },
  {
   "cell_type": "code",
   "execution_count": 25,
   "metadata": {},
   "outputs": [
    {
     "data": {
      "text/plain": [
       "Código\n",
       "NaN      1.911289e+08\n",
       "1.0      7.930614e+07\n",
       "10.0     9.432241e+06\n",
       "100.0    9.432241e+06\n",
       "101.0    0.000000e+00\n",
       "             ...     \n",
       "930.0    0.000000e+00\n",
       "931.0    0.000000e+00\n",
       "94.0     0.000000e+00\n",
       "940.0    0.000000e+00\n",
       "941.0    0.000000e+00\n",
       "Name: Crédito inicial del ejercicio, Length: 330, dtype: float64"
      ]
     },
     "execution_count": 25,
     "metadata": {},
     "output_type": "execute_result"
    }
   ],
   "source": [
    "df.set_index('Código')['Crédito inicial del ejercicio']"
   ]
  },
  {
   "cell_type": "markdown",
   "metadata": {},
   "source": [
    "Ahora vamos a intentar crear un gráfico a través de esas dos variables"
   ]
  },
  {
   "cell_type": "code",
   "execution_count": 26,
   "metadata": {},
   "outputs": [
    {
     "data": {
      "text/plain": [
       "<AxesSubplot:title={'center':'Crédito inicial'}, xlabel='Código'>"
      ]
     },
     "execution_count": 26,
     "metadata": {},
     "output_type": "execute_result"
    },
    {
     "data": {
      "image/png": "[encoded data removed]",
      "text/plain": [
       "<Figure size 432x288 with 1 Axes>"
      ]
     },
     "metadata": {
      "needs_background": "light"
     },
     "output_type": "display_data"
    }
   ],
   "source": [
    "df.set_index('Código')['Crédito inicial del ejercicio'].plot(title=\"Crédito inicial\")"
   ]
  },
  {
   "cell_type": "markdown",
   "metadata": {},
   "source": [
    "Se ha creado aunque soy incapaz de entender el gráfico"
   ]
  },
  {
   "cell_type": "code",
   "execution_count": 29,
   "metadata": {},
   "outputs": [],
   "source": [
    "from matplotlib import pyplot as plt"
   ]
  },
  {
   "cell_type": "code",
   "execution_count": 33,
   "metadata": {},
   "outputs": [
    {
     "data": {
      "text/plain": [
       "<BarContainer object of 330 artists>"
      ]
     },
     "execution_count": 33,
     "metadata": {},
     "output_type": "execute_result"
    },
    {
     "data": {
      "image/png": "[encoded data removed]",
      "text/plain": [
       "<Figure size 432x288 with 1 Axes>"
      ]
     },
     "metadata": {
      "needs_background": "light"
     },
     "output_type": "display_data"
    }
   ],
   "source": [
    "plt.bar(df[\"Código\"], df[\"Crédito inicial del ejercicio\"])"
   ]
  },
  {
   "cell_type": "code",
   "execution_count": 38,
   "metadata": {},
   "outputs": [
    {
     "data": {
      "text/plain": [
       "<BarContainer object of 330 artists>"
      ]
     },
     "execution_count": 38,
     "metadata": {},
     "output_type": "execute_result"
    },
    {
     "data": {
      "image/png": "[encoded data removed]",
      "text/plain": [
       "<Figure size 432x288 with 1 Axes>"
      ]
     },
     "metadata": {
      "needs_background": "light"
     },
     "output_type": "display_data"
    }
   ],
   "source": [
    "plt.bar(range(len(df['Crédito inicial del ejercicio'])), df['Crédito inicial del ejercicio'], tick_label=df['Nombre'])"
   ]
  },
  {
   "cell_type": "markdown",
   "metadata": {},
   "source": [
    "Vamos a volver a empezar con unos datos nuevos en vista de que no hay columnas suficientes. "
   ]
  },
  {
   "cell_type": "markdown",
   "metadata": {},
   "source": [
    "# Análisis de la distribución de las personas beneficiarias de prestación económica o servicio por grado de dependencia en Catalunya"
   ]
  },
  {
   "cell_type": "markdown",
   "metadata": {},
   "source": [
    "Vamos a seguir los mismos pasos anteriores"
   ]
  },
  {
   "cell_type": "code",
   "execution_count": 39,
   "metadata": {
    "scrolled": true
   },
   "outputs": [
    {
     "name": "stdout",
     "output_type": "stream",
     "text": [
      "Requirement already satisfied: pandas in /usr/local/lib/python3.8/dist-packages (1.3.1)\n",
      "Requirement already satisfied: pytz>=2017.3 in /usr/local/lib/python3.8/dist-packages (from pandas) (2020.4)\n",
      "Requirement already satisfied: numpy>=1.17.3 in /usr/local/lib/python3.8/dist-packages (from pandas) (1.21.1)\n",
      "Requirement already satisfied: python-dateutil>=2.7.3 in /usr/local/lib/python3.8/dist-packages (from pandas) (2.8.1)\n",
      "Requirement already satisfied: six>=1.5 in /usr/lib/python3/dist-packages (from python-dateutil>=2.7.3->pandas) (1.14.0)\n"
     ]
    }
   ],
   "source": [
    "!pip install pandas"
   ]
  },
  {
   "cell_type": "code",
   "execution_count": 40,
   "metadata": {},
   "outputs": [],
   "source": [
    "import pandas as pd"
   ]
  },
  {
   "cell_type": "code",
   "execution_count": 41,
   "metadata": {},
   "outputs": [],
   "source": [
    "df = pd.read_csv('./Distribuci__de_les_persones_benefici_ries_de_prestaci__econ_mica_o_servei_per_grau_de_depend_ncia.csv')"
   ]
  },
  {
   "cell_type": "code",
   "execution_count": 42,
   "metadata": {
    "scrolled": true
   },
   "outputs": [
    {
     "data": {
      "text/html": [
       "<div>\n",
       "<style scoped>\n",
       "    .dataframe tbody tr th:only-of-type {\n",
       "        vertical-align: middle;\n",
       "    }\n",
       "\n",
       "    .dataframe tbody tr th {\n",
       "        vertical-align: top;\n",
       "    }\n",
       "\n",
       "    .dataframe thead th {\n",
       "        text-align: right;\n",
       "    }\n",
       "</style>\n",
       "<table border=\"1\" class=\"dataframe\">\n",
       "  <thead>\n",
       "    <tr style=\"text-align: right;\">\n",
       "      <th></th>\n",
       "      <th>Any</th>\n",
       "      <th>Codi</th>\n",
       "      <th>Comarca</th>\n",
       "      <th>Dones grau III</th>\n",
       "      <th>Homes grau III</th>\n",
       "      <th>Total grau III</th>\n",
       "      <th>Dones grau II</th>\n",
       "      <th>Homes grau II</th>\n",
       "      <th>Total grau II</th>\n",
       "      <th>Dones grau I</th>\n",
       "      <th>Homes grau I</th>\n",
       "      <th>Total grau I</th>\n",
       "      <th>Dones</th>\n",
       "      <th>Homes</th>\n",
       "      <th>Total</th>\n",
       "    </tr>\n",
       "  </thead>\n",
       "  <tbody>\n",
       "    <tr>\n",
       "      <th>0</th>\n",
       "      <td>2015</td>\n",
       "      <td>1</td>\n",
       "      <td>Alt Camp</td>\n",
       "      <td>170.000</td>\n",
       "      <td>96.000</td>\n",
       "      <td>266.000</td>\n",
       "      <td>263.000</td>\n",
       "      <td>140.000</td>\n",
       "      <td>403.000</td>\n",
       "      <td>60.000</td>\n",
       "      <td>44.000</td>\n",
       "      <td>104.000</td>\n",
       "      <td>493.000</td>\n",
       "      <td>280.000</td>\n",
       "      <td>773.000</td>\n",
       "    </tr>\n",
       "    <tr>\n",
       "      <th>1</th>\n",
       "      <td>2015</td>\n",
       "      <td>2</td>\n",
       "      <td>Alt Empordà</td>\n",
       "      <td>541.000</td>\n",
       "      <td>297.000</td>\n",
       "      <td>838.000</td>\n",
       "      <td>816.000</td>\n",
       "      <td>479.000</td>\n",
       "      <td>1295.000</td>\n",
       "      <td>155.000</td>\n",
       "      <td>78.000</td>\n",
       "      <td>233.000</td>\n",
       "      <td>1512.000</td>\n",
       "      <td>854.000</td>\n",
       "      <td>2366.000</td>\n",
       "    </tr>\n",
       "    <tr>\n",
       "      <th>2</th>\n",
       "      <td>2015</td>\n",
       "      <td>3</td>\n",
       "      <td>Alt Penedès</td>\n",
       "      <td>513.000</td>\n",
       "      <td>312.000</td>\n",
       "      <td>825.000</td>\n",
       "      <td>741.000</td>\n",
       "      <td>395.000</td>\n",
       "      <td>1136.000</td>\n",
       "      <td>137.000</td>\n",
       "      <td>56.000</td>\n",
       "      <td>193.000</td>\n",
       "      <td>1391.000</td>\n",
       "      <td>763.000</td>\n",
       "      <td>2154.000</td>\n",
       "    </tr>\n",
       "    <tr>\n",
       "      <th>3</th>\n",
       "      <td>2015</td>\n",
       "      <td>4</td>\n",
       "      <td>Alt Urgell</td>\n",
       "      <td>124.000</td>\n",
       "      <td>62.000</td>\n",
       "      <td>186.000</td>\n",
       "      <td>224.000</td>\n",
       "      <td>126.000</td>\n",
       "      <td>350.000</td>\n",
       "      <td>19.000</td>\n",
       "      <td>13.000</td>\n",
       "      <td>32.000</td>\n",
       "      <td>367.000</td>\n",
       "      <td>201.000</td>\n",
       "      <td>568.000</td>\n",
       "    </tr>\n",
       "    <tr>\n",
       "      <th>4</th>\n",
       "      <td>2015</td>\n",
       "      <td>5</td>\n",
       "      <td>Alta Ribagorça</td>\n",
       "      <td>23.000</td>\n",
       "      <td>10.000</td>\n",
       "      <td>33.000</td>\n",
       "      <td>37.000</td>\n",
       "      <td>17.000</td>\n",
       "      <td>54.000</td>\n",
       "      <td>6.000</td>\n",
       "      <td>3.000</td>\n",
       "      <td>9.000</td>\n",
       "      <td>66.000</td>\n",
       "      <td>30.000</td>\n",
       "      <td>96.000</td>\n",
       "    </tr>\n",
       "    <tr>\n",
       "      <th>...</th>\n",
       "      <td>...</td>\n",
       "      <td>...</td>\n",
       "      <td>...</td>\n",
       "      <td>...</td>\n",
       "      <td>...</td>\n",
       "      <td>...</td>\n",
       "      <td>...</td>\n",
       "      <td>...</td>\n",
       "      <td>...</td>\n",
       "      <td>...</td>\n",
       "      <td>...</td>\n",
       "      <td>...</td>\n",
       "      <td>...</td>\n",
       "      <td>...</td>\n",
       "      <td>...</td>\n",
       "    </tr>\n",
       "    <tr>\n",
       "      <th>289</th>\n",
       "      <td>2021</td>\n",
       "      <td>38</td>\n",
       "      <td>Tarragonès</td>\n",
       "      <td>504.000</td>\n",
       "      <td>312.000</td>\n",
       "      <td>816.000</td>\n",
       "      <td>1.270</td>\n",
       "      <td>662.000</td>\n",
       "      <td>1.932</td>\n",
       "      <td>1.409</td>\n",
       "      <td>811.000</td>\n",
       "      <td>2.220</td>\n",
       "      <td>3.183</td>\n",
       "      <td>1.785</td>\n",
       "      <td>4.968</td>\n",
       "    </tr>\n",
       "    <tr>\n",
       "      <th>290</th>\n",
       "      <td>2021</td>\n",
       "      <td>39</td>\n",
       "      <td>Terra Alta</td>\n",
       "      <td>76.000</td>\n",
       "      <td>41.000</td>\n",
       "      <td>117.000</td>\n",
       "      <td>165.000</td>\n",
       "      <td>84.000</td>\n",
       "      <td>249.000</td>\n",
       "      <td>200.000</td>\n",
       "      <td>82.000</td>\n",
       "      <td>282.000</td>\n",
       "      <td>441.000</td>\n",
       "      <td>207.000</td>\n",
       "      <td>648.000</td>\n",
       "    </tr>\n",
       "    <tr>\n",
       "      <th>291</th>\n",
       "      <td>2021</td>\n",
       "      <td>40</td>\n",
       "      <td>Urgell</td>\n",
       "      <td>197.000</td>\n",
       "      <td>92.000</td>\n",
       "      <td>289.000</td>\n",
       "      <td>270.000</td>\n",
       "      <td>139.000</td>\n",
       "      <td>409.000</td>\n",
       "      <td>203.000</td>\n",
       "      <td>134.000</td>\n",
       "      <td>337.000</td>\n",
       "      <td>670.000</td>\n",
       "      <td>365.000</td>\n",
       "      <td>1.035</td>\n",
       "    </tr>\n",
       "    <tr>\n",
       "      <th>292</th>\n",
       "      <td>2021</td>\n",
       "      <td>41</td>\n",
       "      <td>Vallès Occidental</td>\n",
       "      <td>3.099</td>\n",
       "      <td>1.903</td>\n",
       "      <td>5.002</td>\n",
       "      <td>5.040</td>\n",
       "      <td>2.937</td>\n",
       "      <td>7.977</td>\n",
       "      <td>5.050</td>\n",
       "      <td>2.607</td>\n",
       "      <td>7.657</td>\n",
       "      <td>13.189</td>\n",
       "      <td>7.447</td>\n",
       "      <td>20.636</td>\n",
       "    </tr>\n",
       "    <tr>\n",
       "      <th>293</th>\n",
       "      <td>2021</td>\n",
       "      <td>42</td>\n",
       "      <td>Vallès Oriental</td>\n",
       "      <td>1.400</td>\n",
       "      <td>771.000</td>\n",
       "      <td>2.171</td>\n",
       "      <td>2.126</td>\n",
       "      <td>1.275</td>\n",
       "      <td>3.401</td>\n",
       "      <td>1.921</td>\n",
       "      <td>1.100</td>\n",
       "      <td>3.021</td>\n",
       "      <td>5.447</td>\n",
       "      <td>3.146</td>\n",
       "      <td>8.593</td>\n",
       "    </tr>\n",
       "  </tbody>\n",
       "</table>\n",
       "<p>294 rows × 15 columns</p>\n",
       "</div>"
      ],
      "text/plain": [
       "      Any  Codi            Comarca  Dones grau III  Homes grau III  \\\n",
       "0    2015     1           Alt Camp         170.000          96.000   \n",
       "1    2015     2        Alt Empordà         541.000         297.000   \n",
       "2    2015     3        Alt Penedès         513.000         312.000   \n",
       "3    2015     4         Alt Urgell         124.000          62.000   \n",
       "4    2015     5     Alta Ribagorça          23.000          10.000   \n",
       "..    ...   ...                ...             ...             ...   \n",
       "289  2021    38         Tarragonès         504.000         312.000   \n",
       "290  2021    39         Terra Alta          76.000          41.000   \n",
       "291  2021    40             Urgell         197.000          92.000   \n",
       "292  2021    41  Vallès Occidental           3.099           1.903   \n",
       "293  2021    42    Vallès Oriental           1.400         771.000   \n",
       "\n",
       "     Total grau III  Dones grau II  Homes grau II  Total grau II  \\\n",
       "0           266.000        263.000        140.000        403.000   \n",
       "1           838.000        816.000        479.000       1295.000   \n",
       "2           825.000        741.000        395.000       1136.000   \n",
       "3           186.000        224.000        126.000        350.000   \n",
       "4            33.000         37.000         17.000         54.000   \n",
       "..              ...            ...            ...            ...   \n",
       "289         816.000          1.270        662.000          1.932   \n",
       "290         117.000        165.000         84.000        249.000   \n",
       "291         289.000        270.000        139.000        409.000   \n",
       "292           5.002          5.040          2.937          7.977   \n",
       "293           2.171          2.126          1.275          3.401   \n",
       "\n",
       "     Dones grau I  Homes grau I  Total grau I     Dones    Homes     Total  \n",
       "0          60.000        44.000       104.000   493.000  280.000   773.000  \n",
       "1         155.000        78.000       233.000  1512.000  854.000  2366.000  \n",
       "2         137.000        56.000       193.000  1391.000  763.000  2154.000  \n",
       "3          19.000        13.000        32.000   367.000  201.000   568.000  \n",
       "4           6.000         3.000         9.000    66.000   30.000    96.000  \n",
       "..            ...           ...           ...       ...      ...       ...  \n",
       "289         1.409       811.000         2.220     3.183    1.785     4.968  \n",
       "290       200.000        82.000       282.000   441.000  207.000   648.000  \n",
       "291       203.000       134.000       337.000   670.000  365.000     1.035  \n",
       "292         5.050         2.607         7.657    13.189    7.447    20.636  \n",
       "293         1.921         1.100         3.021     5.447    3.146     8.593  \n",
       "\n",
       "[294 rows x 15 columns]"
      ]
     },
     "execution_count": 42,
     "metadata": {},
     "output_type": "execute_result"
    }
   ],
   "source": [
    "df"
   ]
  },
  {
   "cell_type": "code",
   "execution_count": 43,
   "metadata": {
    "scrolled": false
   },
   "outputs": [
    {
     "name": "stdout",
     "output_type": "stream",
     "text": [
      "<class 'pandas.core.frame.DataFrame'>\n",
      "RangeIndex: 294 entries, 0 to 293\n",
      "Data columns (total 15 columns):\n",
      " #   Column          Non-Null Count  Dtype  \n",
      "---  ------          --------------  -----  \n",
      " 0   Any             294 non-null    int64  \n",
      " 1   Codi            294 non-null    int64  \n",
      " 2   Comarca         294 non-null    object \n",
      " 3   Dones grau III  294 non-null    float64\n",
      " 4   Homes grau III  294 non-null    float64\n",
      " 5   Total grau III  294 non-null    float64\n",
      " 6   Dones grau II   294 non-null    float64\n",
      " 7   Homes grau II   294 non-null    float64\n",
      " 8   Total grau II   294 non-null    float64\n",
      " 9   Dones grau I    294 non-null    float64\n",
      " 10  Homes grau I    294 non-null    float64\n",
      " 11  Total grau I    294 non-null    float64\n",
      " 12  Dones           294 non-null    float64\n",
      " 13  Homes           294 non-null    float64\n",
      " 14  Total           294 non-null    float64\n",
      "dtypes: float64(12), int64(2), object(1)\n",
      "memory usage: 34.6+ KB\n"
     ]
    }
   ],
   "source": [
    "df.info()"
   ]
  },
  {
   "cell_type": "markdown",
   "metadata": {},
   "source": [
    "Hacemos de nuevo esto para mostrar las nuevas variables. "
   ]
  },
  {
   "cell_type": "code",
   "execution_count": 62,
   "metadata": {
    "scrolled": true
   },
   "outputs": [
    {
     "data": {
      "text/plain": [
       "<bound method NDFrame.describe of       Any  Codi            Comarca  Dones grau III  Homes grau III  \\\n",
       "0    2015     1           Alt Camp         170.000          96.000   \n",
       "1    2015     2        Alt Empordà         541.000         297.000   \n",
       "2    2015     3        Alt Penedès         513.000         312.000   \n",
       "3    2015     4         Alt Urgell         124.000          62.000   \n",
       "4    2015     5     Alta Ribagorça          23.000          10.000   \n",
       "..    ...   ...                ...             ...             ...   \n",
       "289  2021    38         Tarragonès         504.000         312.000   \n",
       "290  2021    39         Terra Alta          76.000          41.000   \n",
       "291  2021    40             Urgell         197.000          92.000   \n",
       "292  2021    41  Vallès Occidental           3.099           1.903   \n",
       "293  2021    42    Vallès Oriental           1.400         771.000   \n",
       "\n",
       "     Total grau III  Dones grau II  Homes grau II  Total grau II  \\\n",
       "0           266.000        263.000        140.000        403.000   \n",
       "1           838.000        816.000        479.000       1295.000   \n",
       "2           825.000        741.000        395.000       1136.000   \n",
       "3           186.000        224.000        126.000        350.000   \n",
       "4            33.000         37.000         17.000         54.000   \n",
       "..              ...            ...            ...            ...   \n",
       "289         816.000          1.270        662.000          1.932   \n",
       "290         117.000        165.000         84.000        249.000   \n",
       "291         289.000        270.000        139.000        409.000   \n",
       "292           5.002          5.040          2.937          7.977   \n",
       "293           2.171          2.126          1.275          3.401   \n",
       "\n",
       "     Dones grau I  Homes grau I  Total grau I     Dones    Homes     Total  \n",
       "0          60.000        44.000       104.000   493.000  280.000   773.000  \n",
       "1         155.000        78.000       233.000  1512.000  854.000  2366.000  \n",
       "2         137.000        56.000       193.000  1391.000  763.000  2154.000  \n",
       "3          19.000        13.000        32.000   367.000  201.000   568.000  \n",
       "4           6.000         3.000         9.000    66.000   30.000    96.000  \n",
       "..            ...           ...           ...       ...      ...       ...  \n",
       "289         1.409       811.000         2.220     3.183    1.785     4.968  \n",
       "290       200.000        82.000       282.000   441.000  207.000   648.000  \n",
       "291       203.000       134.000       337.000   670.000  365.000     1.035  \n",
       "292         5.050         2.607         7.657    13.189    7.447    20.636  \n",
       "293         1.921         1.100         3.021     5.447    3.146     8.593  \n",
       "\n",
       "[294 rows x 15 columns]>"
      ]
     },
     "execution_count": 62,
     "metadata": {},
     "output_type": "execute_result"
    }
   ],
   "source": [
    "df.describe"
   ]
  },
  {
   "cell_type": "markdown",
   "metadata": {},
   "source": [
    "A continuación vemos los nombres de las columnas que hay en la tabla. En esta ocasión y con estos datos, vemos que con numerables. "
   ]
  },
  {
   "cell_type": "code",
   "execution_count": 61,
   "metadata": {
    "scrolled": false
   },
   "outputs": [
    {
     "data": {
      "text/plain": [
       "Index(['Any', 'Codi', 'Comarca', 'Dones grau III', 'Homes grau III',\n",
       "       'Total grau III', 'Dones grau II', 'Homes grau II', 'Total grau II',\n",
       "       'Dones grau I', 'Homes grau I', 'Total grau I', 'Dones', 'Homes',\n",
       "       'Total'],\n",
       "      dtype='object')"
      ]
     },
     "execution_count": 61,
     "metadata": {},
     "output_type": "execute_result"
    }
   ],
   "source": [
    "df.columns"
   ]
  },
  {
   "cell_type": "markdown",
   "metadata": {},
   "source": [
    "### Ahora, como con los datos anteriores, hemos mostrado las primeras variables. "
   ]
  },
  {
   "cell_type": "code",
   "execution_count": 63,
   "metadata": {},
   "outputs": [
    {
     "data": {
      "text/html": [
       "<div>\n",
       "<style scoped>\n",
       "    .dataframe tbody tr th:only-of-type {\n",
       "        vertical-align: middle;\n",
       "    }\n",
       "\n",
       "    .dataframe tbody tr th {\n",
       "        vertical-align: top;\n",
       "    }\n",
       "\n",
       "    .dataframe thead th {\n",
       "        text-align: right;\n",
       "    }\n",
       "</style>\n",
       "<table border=\"1\" class=\"dataframe\">\n",
       "  <thead>\n",
       "    <tr style=\"text-align: right;\">\n",
       "      <th></th>\n",
       "      <th>Any</th>\n",
       "      <th>Codi</th>\n",
       "      <th>Comarca</th>\n",
       "      <th>Dones grau III</th>\n",
       "      <th>Homes grau III</th>\n",
       "      <th>Total grau III</th>\n",
       "      <th>Dones grau II</th>\n",
       "      <th>Homes grau II</th>\n",
       "      <th>Total grau II</th>\n",
       "      <th>Dones grau I</th>\n",
       "      <th>Homes grau I</th>\n",
       "      <th>Total grau I</th>\n",
       "      <th>Dones</th>\n",
       "      <th>Homes</th>\n",
       "      <th>Total</th>\n",
       "    </tr>\n",
       "  </thead>\n",
       "  <tbody>\n",
       "    <tr>\n",
       "      <th>0</th>\n",
       "      <td>2015</td>\n",
       "      <td>1</td>\n",
       "      <td>Alt Camp</td>\n",
       "      <td>170.0</td>\n",
       "      <td>96.0</td>\n",
       "      <td>266.0</td>\n",
       "      <td>263.0</td>\n",
       "      <td>140.0</td>\n",
       "      <td>403.0</td>\n",
       "      <td>60.0</td>\n",
       "      <td>44.0</td>\n",
       "      <td>104.0</td>\n",
       "      <td>493.0</td>\n",
       "      <td>280.0</td>\n",
       "      <td>773.0</td>\n",
       "    </tr>\n",
       "    <tr>\n",
       "      <th>1</th>\n",
       "      <td>2015</td>\n",
       "      <td>2</td>\n",
       "      <td>Alt Empordà</td>\n",
       "      <td>541.0</td>\n",
       "      <td>297.0</td>\n",
       "      <td>838.0</td>\n",
       "      <td>816.0</td>\n",
       "      <td>479.0</td>\n",
       "      <td>1295.0</td>\n",
       "      <td>155.0</td>\n",
       "      <td>78.0</td>\n",
       "      <td>233.0</td>\n",
       "      <td>1512.0</td>\n",
       "      <td>854.0</td>\n",
       "      <td>2366.0</td>\n",
       "    </tr>\n",
       "    <tr>\n",
       "      <th>2</th>\n",
       "      <td>2015</td>\n",
       "      <td>3</td>\n",
       "      <td>Alt Penedès</td>\n",
       "      <td>513.0</td>\n",
       "      <td>312.0</td>\n",
       "      <td>825.0</td>\n",
       "      <td>741.0</td>\n",
       "      <td>395.0</td>\n",
       "      <td>1136.0</td>\n",
       "      <td>137.0</td>\n",
       "      <td>56.0</td>\n",
       "      <td>193.0</td>\n",
       "      <td>1391.0</td>\n",
       "      <td>763.0</td>\n",
       "      <td>2154.0</td>\n",
       "    </tr>\n",
       "    <tr>\n",
       "      <th>3</th>\n",
       "      <td>2015</td>\n",
       "      <td>4</td>\n",
       "      <td>Alt Urgell</td>\n",
       "      <td>124.0</td>\n",
       "      <td>62.0</td>\n",
       "      <td>186.0</td>\n",
       "      <td>224.0</td>\n",
       "      <td>126.0</td>\n",
       "      <td>350.0</td>\n",
       "      <td>19.0</td>\n",
       "      <td>13.0</td>\n",
       "      <td>32.0</td>\n",
       "      <td>367.0</td>\n",
       "      <td>201.0</td>\n",
       "      <td>568.0</td>\n",
       "    </tr>\n",
       "    <tr>\n",
       "      <th>4</th>\n",
       "      <td>2015</td>\n",
       "      <td>5</td>\n",
       "      <td>Alta Ribagorça</td>\n",
       "      <td>23.0</td>\n",
       "      <td>10.0</td>\n",
       "      <td>33.0</td>\n",
       "      <td>37.0</td>\n",
       "      <td>17.0</td>\n",
       "      <td>54.0</td>\n",
       "      <td>6.0</td>\n",
       "      <td>3.0</td>\n",
       "      <td>9.0</td>\n",
       "      <td>66.0</td>\n",
       "      <td>30.0</td>\n",
       "      <td>96.0</td>\n",
       "    </tr>\n",
       "  </tbody>\n",
       "</table>\n",
       "</div>"
      ],
      "text/plain": [
       "    Any  Codi         Comarca  Dones grau III  Homes grau III  Total grau III  \\\n",
       "0  2015     1        Alt Camp           170.0            96.0           266.0   \n",
       "1  2015     2     Alt Empordà           541.0           297.0           838.0   \n",
       "2  2015     3     Alt Penedès           513.0           312.0           825.0   \n",
       "3  2015     4      Alt Urgell           124.0            62.0           186.0   \n",
       "4  2015     5  Alta Ribagorça            23.0            10.0            33.0   \n",
       "\n",
       "   Dones grau II  Homes grau II  Total grau II  Dones grau I  Homes grau I  \\\n",
       "0          263.0          140.0          403.0          60.0          44.0   \n",
       "1          816.0          479.0         1295.0         155.0          78.0   \n",
       "2          741.0          395.0         1136.0         137.0          56.0   \n",
       "3          224.0          126.0          350.0          19.0          13.0   \n",
       "4           37.0           17.0           54.0           6.0           3.0   \n",
       "\n",
       "   Total grau I   Dones  Homes   Total  \n",
       "0         104.0   493.0  280.0   773.0  \n",
       "1         233.0  1512.0  854.0  2366.0  \n",
       "2         193.0  1391.0  763.0  2154.0  \n",
       "3          32.0   367.0  201.0   568.0  \n",
       "4           9.0    66.0   30.0    96.0  "
      ]
     },
     "execution_count": 63,
     "metadata": {},
     "output_type": "execute_result"
    }
   ],
   "source": [
    "df.head()"
   ]
  },
  {
   "cell_type": "markdown",
   "metadata": {},
   "source": [
    "### Ahora hacemos lo mismo que anteriormente pero eligiendo cuáles queremos ver (las siete primeras)"
   ]
  },
  {
   "cell_type": "code",
   "execution_count": 64,
   "metadata": {
    "scrolled": false
   },
   "outputs": [
    {
     "data": {
      "text/html": [
       "<div>\n",
       "<style scoped>\n",
       "    .dataframe tbody tr th:only-of-type {\n",
       "        vertical-align: middle;\n",
       "    }\n",
       "\n",
       "    .dataframe tbody tr th {\n",
       "        vertical-align: top;\n",
       "    }\n",
       "\n",
       "    .dataframe thead th {\n",
       "        text-align: right;\n",
       "    }\n",
       "</style>\n",
       "<table border=\"1\" class=\"dataframe\">\n",
       "  <thead>\n",
       "    <tr style=\"text-align: right;\">\n",
       "      <th></th>\n",
       "      <th>Any</th>\n",
       "      <th>Codi</th>\n",
       "      <th>Comarca</th>\n",
       "      <th>Dones grau III</th>\n",
       "      <th>Homes grau III</th>\n",
       "      <th>Total grau III</th>\n",
       "      <th>Dones grau II</th>\n",
       "      <th>Homes grau II</th>\n",
       "      <th>Total grau II</th>\n",
       "      <th>Dones grau I</th>\n",
       "      <th>Homes grau I</th>\n",
       "      <th>Total grau I</th>\n",
       "      <th>Dones</th>\n",
       "      <th>Homes</th>\n",
       "      <th>Total</th>\n",
       "    </tr>\n",
       "  </thead>\n",
       "  <tbody>\n",
       "    <tr>\n",
       "      <th>0</th>\n",
       "      <td>2015</td>\n",
       "      <td>1</td>\n",
       "      <td>Alt Camp</td>\n",
       "      <td>170.0</td>\n",
       "      <td>96.0</td>\n",
       "      <td>266.0</td>\n",
       "      <td>263.0</td>\n",
       "      <td>140.0</td>\n",
       "      <td>403.0</td>\n",
       "      <td>60.0</td>\n",
       "      <td>44.0</td>\n",
       "      <td>104.0</td>\n",
       "      <td>493.0</td>\n",
       "      <td>280.0</td>\n",
       "      <td>773.0</td>\n",
       "    </tr>\n",
       "    <tr>\n",
       "      <th>1</th>\n",
       "      <td>2015</td>\n",
       "      <td>2</td>\n",
       "      <td>Alt Empordà</td>\n",
       "      <td>541.0</td>\n",
       "      <td>297.0</td>\n",
       "      <td>838.0</td>\n",
       "      <td>816.0</td>\n",
       "      <td>479.0</td>\n",
       "      <td>1295.0</td>\n",
       "      <td>155.0</td>\n",
       "      <td>78.0</td>\n",
       "      <td>233.0</td>\n",
       "      <td>1512.0</td>\n",
       "      <td>854.0</td>\n",
       "      <td>2366.0</td>\n",
       "    </tr>\n",
       "    <tr>\n",
       "      <th>2</th>\n",
       "      <td>2015</td>\n",
       "      <td>3</td>\n",
       "      <td>Alt Penedès</td>\n",
       "      <td>513.0</td>\n",
       "      <td>312.0</td>\n",
       "      <td>825.0</td>\n",
       "      <td>741.0</td>\n",
       "      <td>395.0</td>\n",
       "      <td>1136.0</td>\n",
       "      <td>137.0</td>\n",
       "      <td>56.0</td>\n",
       "      <td>193.0</td>\n",
       "      <td>1391.0</td>\n",
       "      <td>763.0</td>\n",
       "      <td>2154.0</td>\n",
       "    </tr>\n",
       "    <tr>\n",
       "      <th>3</th>\n",
       "      <td>2015</td>\n",
       "      <td>4</td>\n",
       "      <td>Alt Urgell</td>\n",
       "      <td>124.0</td>\n",
       "      <td>62.0</td>\n",
       "      <td>186.0</td>\n",
       "      <td>224.0</td>\n",
       "      <td>126.0</td>\n",
       "      <td>350.0</td>\n",
       "      <td>19.0</td>\n",
       "      <td>13.0</td>\n",
       "      <td>32.0</td>\n",
       "      <td>367.0</td>\n",
       "      <td>201.0</td>\n",
       "      <td>568.0</td>\n",
       "    </tr>\n",
       "    <tr>\n",
       "      <th>4</th>\n",
       "      <td>2015</td>\n",
       "      <td>5</td>\n",
       "      <td>Alta Ribagorça</td>\n",
       "      <td>23.0</td>\n",
       "      <td>10.0</td>\n",
       "      <td>33.0</td>\n",
       "      <td>37.0</td>\n",
       "      <td>17.0</td>\n",
       "      <td>54.0</td>\n",
       "      <td>6.0</td>\n",
       "      <td>3.0</td>\n",
       "      <td>9.0</td>\n",
       "      <td>66.0</td>\n",
       "      <td>30.0</td>\n",
       "      <td>96.0</td>\n",
       "    </tr>\n",
       "    <tr>\n",
       "      <th>5</th>\n",
       "      <td>2015</td>\n",
       "      <td>6</td>\n",
       "      <td>Anoia</td>\n",
       "      <td>416.0</td>\n",
       "      <td>241.0</td>\n",
       "      <td>657.0</td>\n",
       "      <td>832.0</td>\n",
       "      <td>477.0</td>\n",
       "      <td>1309.0</td>\n",
       "      <td>159.0</td>\n",
       "      <td>88.0</td>\n",
       "      <td>247.0</td>\n",
       "      <td>1407.0</td>\n",
       "      <td>806.0</td>\n",
       "      <td>2213.0</td>\n",
       "    </tr>\n",
       "  </tbody>\n",
       "</table>\n",
       "</div>"
      ],
      "text/plain": [
       "    Any  Codi         Comarca  Dones grau III  Homes grau III  Total grau III  \\\n",
       "0  2015     1        Alt Camp           170.0            96.0           266.0   \n",
       "1  2015     2     Alt Empordà           541.0           297.0           838.0   \n",
       "2  2015     3     Alt Penedès           513.0           312.0           825.0   \n",
       "3  2015     4      Alt Urgell           124.0            62.0           186.0   \n",
       "4  2015     5  Alta Ribagorça            23.0            10.0            33.0   \n",
       "5  2015     6           Anoia           416.0           241.0           657.0   \n",
       "\n",
       "   Dones grau II  Homes grau II  Total grau II  Dones grau I  Homes grau I  \\\n",
       "0          263.0          140.0          403.0          60.0          44.0   \n",
       "1          816.0          479.0         1295.0         155.0          78.0   \n",
       "2          741.0          395.0         1136.0         137.0          56.0   \n",
       "3          224.0          126.0          350.0          19.0          13.0   \n",
       "4           37.0           17.0           54.0           6.0           3.0   \n",
       "5          832.0          477.0         1309.0         159.0          88.0   \n",
       "\n",
       "   Total grau I   Dones  Homes   Total  \n",
       "0         104.0   493.0  280.0   773.0  \n",
       "1         233.0  1512.0  854.0  2366.0  \n",
       "2         193.0  1391.0  763.0  2154.0  \n",
       "3          32.0   367.0  201.0   568.0  \n",
       "4           9.0    66.0   30.0    96.0  \n",
       "5         247.0  1407.0  806.0  2213.0  "
      ]
     },
     "execution_count": 64,
     "metadata": {},
     "output_type": "execute_result"
    }
   ],
   "source": [
    "df.head(6)"
   ]
  },
  {
   "cell_type": "markdown",
   "metadata": {},
   "source": [
    "Finalmente enseñamos las últimas variables, esta vez sin escoger cuántas (dejando el paréntesis en blanco)"
   ]
  },
  {
   "cell_type": "code",
   "execution_count": 65,
   "metadata": {},
   "outputs": [
    {
     "data": {
      "text/html": [
       "<div>\n",
       "<style scoped>\n",
       "    .dataframe tbody tr th:only-of-type {\n",
       "        vertical-align: middle;\n",
       "    }\n",
       "\n",
       "    .dataframe tbody tr th {\n",
       "        vertical-align: top;\n",
       "    }\n",
       "\n",
       "    .dataframe thead th {\n",
       "        text-align: right;\n",
       "    }\n",
       "</style>\n",
       "<table border=\"1\" class=\"dataframe\">\n",
       "  <thead>\n",
       "    <tr style=\"text-align: right;\">\n",
       "      <th></th>\n",
       "      <th>Any</th>\n",
       "      <th>Codi</th>\n",
       "      <th>Comarca</th>\n",
       "      <th>Dones grau III</th>\n",
       "      <th>Homes grau III</th>\n",
       "      <th>Total grau III</th>\n",
       "      <th>Dones grau II</th>\n",
       "      <th>Homes grau II</th>\n",
       "      <th>Total grau II</th>\n",
       "      <th>Dones grau I</th>\n",
       "      <th>Homes grau I</th>\n",
       "      <th>Total grau I</th>\n",
       "      <th>Dones</th>\n",
       "      <th>Homes</th>\n",
       "      <th>Total</th>\n",
       "    </tr>\n",
       "  </thead>\n",
       "  <tbody>\n",
       "    <tr>\n",
       "      <th>289</th>\n",
       "      <td>2021</td>\n",
       "      <td>38</td>\n",
       "      <td>Tarragonès</td>\n",
       "      <td>504.000</td>\n",
       "      <td>312.000</td>\n",
       "      <td>816.000</td>\n",
       "      <td>1.270</td>\n",
       "      <td>662.000</td>\n",
       "      <td>1.932</td>\n",
       "      <td>1.409</td>\n",
       "      <td>811.000</td>\n",
       "      <td>2.220</td>\n",
       "      <td>3.183</td>\n",
       "      <td>1.785</td>\n",
       "      <td>4.968</td>\n",
       "    </tr>\n",
       "    <tr>\n",
       "      <th>290</th>\n",
       "      <td>2021</td>\n",
       "      <td>39</td>\n",
       "      <td>Terra Alta</td>\n",
       "      <td>76.000</td>\n",
       "      <td>41.000</td>\n",
       "      <td>117.000</td>\n",
       "      <td>165.000</td>\n",
       "      <td>84.000</td>\n",
       "      <td>249.000</td>\n",
       "      <td>200.000</td>\n",
       "      <td>82.000</td>\n",
       "      <td>282.000</td>\n",
       "      <td>441.000</td>\n",
       "      <td>207.000</td>\n",
       "      <td>648.000</td>\n",
       "    </tr>\n",
       "    <tr>\n",
       "      <th>291</th>\n",
       "      <td>2021</td>\n",
       "      <td>40</td>\n",
       "      <td>Urgell</td>\n",
       "      <td>197.000</td>\n",
       "      <td>92.000</td>\n",
       "      <td>289.000</td>\n",
       "      <td>270.000</td>\n",
       "      <td>139.000</td>\n",
       "      <td>409.000</td>\n",
       "      <td>203.000</td>\n",
       "      <td>134.000</td>\n",
       "      <td>337.000</td>\n",
       "      <td>670.000</td>\n",
       "      <td>365.000</td>\n",
       "      <td>1.035</td>\n",
       "    </tr>\n",
       "    <tr>\n",
       "      <th>292</th>\n",
       "      <td>2021</td>\n",
       "      <td>41</td>\n",
       "      <td>Vallès Occidental</td>\n",
       "      <td>3.099</td>\n",
       "      <td>1.903</td>\n",
       "      <td>5.002</td>\n",
       "      <td>5.040</td>\n",
       "      <td>2.937</td>\n",
       "      <td>7.977</td>\n",
       "      <td>5.050</td>\n",
       "      <td>2.607</td>\n",
       "      <td>7.657</td>\n",
       "      <td>13.189</td>\n",
       "      <td>7.447</td>\n",
       "      <td>20.636</td>\n",
       "    </tr>\n",
       "    <tr>\n",
       "      <th>293</th>\n",
       "      <td>2021</td>\n",
       "      <td>42</td>\n",
       "      <td>Vallès Oriental</td>\n",
       "      <td>1.400</td>\n",
       "      <td>771.000</td>\n",
       "      <td>2.171</td>\n",
       "      <td>2.126</td>\n",
       "      <td>1.275</td>\n",
       "      <td>3.401</td>\n",
       "      <td>1.921</td>\n",
       "      <td>1.100</td>\n",
       "      <td>3.021</td>\n",
       "      <td>5.447</td>\n",
       "      <td>3.146</td>\n",
       "      <td>8.593</td>\n",
       "    </tr>\n",
       "  </tbody>\n",
       "</table>\n",
       "</div>"
      ],
      "text/plain": [
       "      Any  Codi            Comarca  Dones grau III  Homes grau III  \\\n",
       "289  2021    38         Tarragonès         504.000         312.000   \n",
       "290  2021    39         Terra Alta          76.000          41.000   \n",
       "291  2021    40             Urgell         197.000          92.000   \n",
       "292  2021    41  Vallès Occidental           3.099           1.903   \n",
       "293  2021    42    Vallès Oriental           1.400         771.000   \n",
       "\n",
       "     Total grau III  Dones grau II  Homes grau II  Total grau II  \\\n",
       "289         816.000          1.270        662.000          1.932   \n",
       "290         117.000        165.000         84.000        249.000   \n",
       "291         289.000        270.000        139.000        409.000   \n",
       "292           5.002          5.040          2.937          7.977   \n",
       "293           2.171          2.126          1.275          3.401   \n",
       "\n",
       "     Dones grau I  Homes grau I  Total grau I    Dones    Homes    Total  \n",
       "289         1.409       811.000         2.220    3.183    1.785    4.968  \n",
       "290       200.000        82.000       282.000  441.000  207.000  648.000  \n",
       "291       203.000       134.000       337.000  670.000  365.000    1.035  \n",
       "292         5.050         2.607         7.657   13.189    7.447   20.636  \n",
       "293         1.921         1.100         3.021    5.447    3.146    8.593  "
      ]
     },
     "execution_count": 65,
     "metadata": {},
     "output_type": "execute_result"
    }
   ],
   "source": [
    "df.tail()"
   ]
  },
  {
   "cell_type": "markdown",
   "metadata": {},
   "source": [
    "Ahora resaltamos la columna: Comarca (la indexamos u ordenamos basándonos en ella)"
   ]
  },
  {
   "cell_type": "code",
   "execution_count": 68,
   "metadata": {
    "scrolled": true
   },
   "outputs": [
    {
     "data": {
      "text/html": [
       "<div>\n",
       "<style scoped>\n",
       "    .dataframe tbody tr th:only-of-type {\n",
       "        vertical-align: middle;\n",
       "    }\n",
       "\n",
       "    .dataframe tbody tr th {\n",
       "        vertical-align: top;\n",
       "    }\n",
       "\n",
       "    .dataframe thead th {\n",
       "        text-align: right;\n",
       "    }\n",
       "</style>\n",
       "<table border=\"1\" class=\"dataframe\">\n",
       "  <thead>\n",
       "    <tr style=\"text-align: right;\">\n",
       "      <th></th>\n",
       "      <th>Any</th>\n",
       "      <th>Codi</th>\n",
       "      <th>Dones grau III</th>\n",
       "      <th>Homes grau III</th>\n",
       "      <th>Total grau III</th>\n",
       "      <th>Dones grau II</th>\n",
       "      <th>Homes grau II</th>\n",
       "      <th>Total grau II</th>\n",
       "      <th>Dones grau I</th>\n",
       "      <th>Homes grau I</th>\n",
       "      <th>Total grau I</th>\n",
       "      <th>Dones</th>\n",
       "      <th>Homes</th>\n",
       "      <th>Total</th>\n",
       "    </tr>\n",
       "    <tr>\n",
       "      <th>Comarca</th>\n",
       "      <th></th>\n",
       "      <th></th>\n",
       "      <th></th>\n",
       "      <th></th>\n",
       "      <th></th>\n",
       "      <th></th>\n",
       "      <th></th>\n",
       "      <th></th>\n",
       "      <th></th>\n",
       "      <th></th>\n",
       "      <th></th>\n",
       "      <th></th>\n",
       "      <th></th>\n",
       "      <th></th>\n",
       "    </tr>\n",
       "  </thead>\n",
       "  <tbody>\n",
       "    <tr>\n",
       "      <th>Alt Camp</th>\n",
       "      <td>2015</td>\n",
       "      <td>1</td>\n",
       "      <td>170.000</td>\n",
       "      <td>96.000</td>\n",
       "      <td>266.000</td>\n",
       "      <td>263.000</td>\n",
       "      <td>140.000</td>\n",
       "      <td>403.000</td>\n",
       "      <td>60.000</td>\n",
       "      <td>44.000</td>\n",
       "      <td>104.000</td>\n",
       "      <td>493.000</td>\n",
       "      <td>280.000</td>\n",
       "      <td>773.000</td>\n",
       "    </tr>\n",
       "    <tr>\n",
       "      <th>Alt Empordà</th>\n",
       "      <td>2015</td>\n",
       "      <td>2</td>\n",
       "      <td>541.000</td>\n",
       "      <td>297.000</td>\n",
       "      <td>838.000</td>\n",
       "      <td>816.000</td>\n",
       "      <td>479.000</td>\n",
       "      <td>1295.000</td>\n",
       "      <td>155.000</td>\n",
       "      <td>78.000</td>\n",
       "      <td>233.000</td>\n",
       "      <td>1512.000</td>\n",
       "      <td>854.000</td>\n",
       "      <td>2366.000</td>\n",
       "    </tr>\n",
       "    <tr>\n",
       "      <th>Alt Penedès</th>\n",
       "      <td>2015</td>\n",
       "      <td>3</td>\n",
       "      <td>513.000</td>\n",
       "      <td>312.000</td>\n",
       "      <td>825.000</td>\n",
       "      <td>741.000</td>\n",
       "      <td>395.000</td>\n",
       "      <td>1136.000</td>\n",
       "      <td>137.000</td>\n",
       "      <td>56.000</td>\n",
       "      <td>193.000</td>\n",
       "      <td>1391.000</td>\n",
       "      <td>763.000</td>\n",
       "      <td>2154.000</td>\n",
       "    </tr>\n",
       "    <tr>\n",
       "      <th>Alt Urgell</th>\n",
       "      <td>2015</td>\n",
       "      <td>4</td>\n",
       "      <td>124.000</td>\n",
       "      <td>62.000</td>\n",
       "      <td>186.000</td>\n",
       "      <td>224.000</td>\n",
       "      <td>126.000</td>\n",
       "      <td>350.000</td>\n",
       "      <td>19.000</td>\n",
       "      <td>13.000</td>\n",
       "      <td>32.000</td>\n",
       "      <td>367.000</td>\n",
       "      <td>201.000</td>\n",
       "      <td>568.000</td>\n",
       "    </tr>\n",
       "    <tr>\n",
       "      <th>Alta Ribagorça</th>\n",
       "      <td>2015</td>\n",
       "      <td>5</td>\n",
       "      <td>23.000</td>\n",
       "      <td>10.000</td>\n",
       "      <td>33.000</td>\n",
       "      <td>37.000</td>\n",
       "      <td>17.000</td>\n",
       "      <td>54.000</td>\n",
       "      <td>6.000</td>\n",
       "      <td>3.000</td>\n",
       "      <td>9.000</td>\n",
       "      <td>66.000</td>\n",
       "      <td>30.000</td>\n",
       "      <td>96.000</td>\n",
       "    </tr>\n",
       "    <tr>\n",
       "      <th>...</th>\n",
       "      <td>...</td>\n",
       "      <td>...</td>\n",
       "      <td>...</td>\n",
       "      <td>...</td>\n",
       "      <td>...</td>\n",
       "      <td>...</td>\n",
       "      <td>...</td>\n",
       "      <td>...</td>\n",
       "      <td>...</td>\n",
       "      <td>...</td>\n",
       "      <td>...</td>\n",
       "      <td>...</td>\n",
       "      <td>...</td>\n",
       "      <td>...</td>\n",
       "    </tr>\n",
       "    <tr>\n",
       "      <th>Tarragonès</th>\n",
       "      <td>2021</td>\n",
       "      <td>38</td>\n",
       "      <td>504.000</td>\n",
       "      <td>312.000</td>\n",
       "      <td>816.000</td>\n",
       "      <td>1.270</td>\n",
       "      <td>662.000</td>\n",
       "      <td>1.932</td>\n",
       "      <td>1.409</td>\n",
       "      <td>811.000</td>\n",
       "      <td>2.220</td>\n",
       "      <td>3.183</td>\n",
       "      <td>1.785</td>\n",
       "      <td>4.968</td>\n",
       "    </tr>\n",
       "    <tr>\n",
       "      <th>Terra Alta</th>\n",
       "      <td>2021</td>\n",
       "      <td>39</td>\n",
       "      <td>76.000</td>\n",
       "      <td>41.000</td>\n",
       "      <td>117.000</td>\n",
       "      <td>165.000</td>\n",
       "      <td>84.000</td>\n",
       "      <td>249.000</td>\n",
       "      <td>200.000</td>\n",
       "      <td>82.000</td>\n",
       "      <td>282.000</td>\n",
       "      <td>441.000</td>\n",
       "      <td>207.000</td>\n",
       "      <td>648.000</td>\n",
       "    </tr>\n",
       "    <tr>\n",
       "      <th>Urgell</th>\n",
       "      <td>2021</td>\n",
       "      <td>40</td>\n",
       "      <td>197.000</td>\n",
       "      <td>92.000</td>\n",
       "      <td>289.000</td>\n",
       "      <td>270.000</td>\n",
       "      <td>139.000</td>\n",
       "      <td>409.000</td>\n",
       "      <td>203.000</td>\n",
       "      <td>134.000</td>\n",
       "      <td>337.000</td>\n",
       "      <td>670.000</td>\n",
       "      <td>365.000</td>\n",
       "      <td>1.035</td>\n",
       "    </tr>\n",
       "    <tr>\n",
       "      <th>Vallès Occidental</th>\n",
       "      <td>2021</td>\n",
       "      <td>41</td>\n",
       "      <td>3.099</td>\n",
       "      <td>1.903</td>\n",
       "      <td>5.002</td>\n",
       "      <td>5.040</td>\n",
       "      <td>2.937</td>\n",
       "      <td>7.977</td>\n",
       "      <td>5.050</td>\n",
       "      <td>2.607</td>\n",
       "      <td>7.657</td>\n",
       "      <td>13.189</td>\n",
       "      <td>7.447</td>\n",
       "      <td>20.636</td>\n",
       "    </tr>\n",
       "    <tr>\n",
       "      <th>Vallès Oriental</th>\n",
       "      <td>2021</td>\n",
       "      <td>42</td>\n",
       "      <td>1.400</td>\n",
       "      <td>771.000</td>\n",
       "      <td>2.171</td>\n",
       "      <td>2.126</td>\n",
       "      <td>1.275</td>\n",
       "      <td>3.401</td>\n",
       "      <td>1.921</td>\n",
       "      <td>1.100</td>\n",
       "      <td>3.021</td>\n",
       "      <td>5.447</td>\n",
       "      <td>3.146</td>\n",
       "      <td>8.593</td>\n",
       "    </tr>\n",
       "  </tbody>\n",
       "</table>\n",
       "<p>294 rows × 14 columns</p>\n",
       "</div>"
      ],
      "text/plain": [
       "                    Any  Codi  Dones grau III  Homes grau III  Total grau III  \\\n",
       "Comarca                                                                         \n",
       "Alt Camp           2015     1         170.000          96.000         266.000   \n",
       "Alt Empordà        2015     2         541.000         297.000         838.000   \n",
       "Alt Penedès        2015     3         513.000         312.000         825.000   \n",
       "Alt Urgell         2015     4         124.000          62.000         186.000   \n",
       "Alta Ribagorça     2015     5          23.000          10.000          33.000   \n",
       "...                 ...   ...             ...             ...             ...   \n",
       "Tarragonès         2021    38         504.000         312.000         816.000   \n",
       "Terra Alta         2021    39          76.000          41.000         117.000   \n",
       "Urgell             2021    40         197.000          92.000         289.000   \n",
       "Vallès Occidental  2021    41           3.099           1.903           5.002   \n",
       "Vallès Oriental    2021    42           1.400         771.000           2.171   \n",
       "\n",
       "                   Dones grau II  Homes grau II  Total grau II  Dones grau I  \\\n",
       "Comarca                                                                        \n",
       "Alt Camp                 263.000        140.000        403.000        60.000   \n",
       "Alt Empordà              816.000        479.000       1295.000       155.000   \n",
       "Alt Penedès              741.000        395.000       1136.000       137.000   \n",
       "Alt Urgell               224.000        126.000        350.000        19.000   \n",
       "Alta Ribagorça            37.000         17.000         54.000         6.000   \n",
       "...                          ...            ...            ...           ...   \n",
       "Tarragonès                 1.270        662.000          1.932         1.409   \n",
       "Terra Alta               165.000         84.000        249.000       200.000   \n",
       "Urgell                   270.000        139.000        409.000       203.000   \n",
       "Vallès Occidental          5.040          2.937          7.977         5.050   \n",
       "Vallès Oriental            2.126          1.275          3.401         1.921   \n",
       "\n",
       "                   Homes grau I  Total grau I     Dones    Homes     Total  \n",
       "Comarca                                                                     \n",
       "Alt Camp                 44.000       104.000   493.000  280.000   773.000  \n",
       "Alt Empordà              78.000       233.000  1512.000  854.000  2366.000  \n",
       "Alt Penedès              56.000       193.000  1391.000  763.000  2154.000  \n",
       "Alt Urgell               13.000        32.000   367.000  201.000   568.000  \n",
       "Alta Ribagorça            3.000         9.000    66.000   30.000    96.000  \n",
       "...                         ...           ...       ...      ...       ...  \n",
       "Tarragonès              811.000         2.220     3.183    1.785     4.968  \n",
       "Terra Alta               82.000       282.000   441.000  207.000   648.000  \n",
       "Urgell                  134.000       337.000   670.000  365.000     1.035  \n",
       "Vallès Occidental         2.607         7.657    13.189    7.447    20.636  \n",
       "Vallès Oriental           1.100         3.021     5.447    3.146     8.593  \n",
       "\n",
       "[294 rows x 14 columns]"
      ]
     },
     "execution_count": 68,
     "metadata": {},
     "output_type": "execute_result"
    }
   ],
   "source": [
    "df.set_index('Comarca')"
   ]
  },
  {
   "cell_type": "code",
   "execution_count": 53,
   "metadata": {
    "scrolled": true
   },
   "outputs": [
    {
     "data": {
      "text/plain": [
       "Comarca\n",
       "Alt Camp               4150.000\n",
       "Alt Empordà            9863.675\n",
       "Alt Penedès            9099.480\n",
       "Alt Urgell             2550.000\n",
       "Alta Ribagorça          459.000\n",
       "Anoia                  9996.820\n",
       "Aran                    803.000\n",
       "Bages                 17581.925\n",
       "Baix Camp             14776.375\n",
       "Baix Ebre             11779.067\n",
       "Baix Empordà          10117.760\n",
       "Baix Llobregat        72563.750\n",
       "Baix Penedès           7767.482\n",
       "Barcelonès           172347.179\n",
       "Berguedà               6357.000\n",
       "Cerdanya               1290.000\n",
       "Conca de Barberà       2383.000\n",
       "Garraf                 9605.767\n",
       "Garrigues              2582.000\n",
       "Garrotxa               6254.000\n",
       "Gironès               13466.321\n",
       "Maresme               36331.051\n",
       "Moianès                2016.000\n",
       "Montsià                9952.711\n",
       "Noguera                5208.000\n",
       "Osona                 12386.053\n",
       "Pallars Jussà          2379.000\n",
       "Pallars Sobirà          843.000\n",
       "Pla d'Urgell           4818.000\n",
       "Pla de l'Estany        4123.000\n",
       "Priorat                1697.000\n",
       "Ribera d'Ebre          3506.000\n",
       "Ripollès               3697.000\n",
       "Segarra                2391.000\n",
       "Segrià                19934.788\n",
       "Selva                 11599.171\n",
       "Solsonès               1733.000\n",
       "Tarragonès            18216.183\n",
       "Terra Alta             2719.000\n",
       "Urgell                 4302.000\n",
       "Vallès Occidental     75442.189\n",
       "Vallès Oriental       32374.447\n",
       "Name: Dones, dtype: float64"
      ]
     },
     "execution_count": 53,
     "metadata": {},
     "output_type": "execute_result"
    }
   ],
   "source": [
    "Dones_comarca = df.groupby(['Comarca'])['Dones'].sum()\n",
    "Dones_comarca"
   ]
  },
  {
   "cell_type": "code",
   "execution_count": 54,
   "metadata": {
    "scrolled": true
   },
   "outputs": [
    {
     "data": {
      "text/plain": [
       "Comarca\n",
       "Alt Camp              2536.000\n",
       "Alt Empordà           6527.000\n",
       "Alt Penedès           5917.000\n",
       "Alt Urgell            1430.000\n",
       "Alta Ribagorça         197.000\n",
       "Anoia                 5604.002\n",
       "Aran                   345.000\n",
       "Bages                 9504.697\n",
       "Baix Camp            10196.754\n",
       "Baix Ebre             6722.262\n",
       "Baix Empordà          6052.000\n",
       "Baix Llobregat       38384.052\n",
       "Baix Penedès          5085.000\n",
       "Barcelonès           85592.413\n",
       "Berguedà              2706.000\n",
       "Cerdanya               751.000\n",
       "Conca de Barberà      1004.000\n",
       "Garraf                5351.085\n",
       "Garrigues             1372.000\n",
       "Garrotxa              3046.000\n",
       "Gironès               8059.527\n",
       "Maresme              18584.241\n",
       "Moianès                894.000\n",
       "Montsià               6459.000\n",
       "Noguera               2884.000\n",
       "Osona                 6317.109\n",
       "Pallars Jussà         1089.000\n",
       "Pallars Sobirà         464.000\n",
       "Pla d'Urgell          2521.000\n",
       "Pla de l'Estany       2373.000\n",
       "Priorat                706.000\n",
       "Ribera d'Ebre         1694.000\n",
       "Ripollès              1808.000\n",
       "Segarra               1044.000\n",
       "Segrià               11539.276\n",
       "Selva                 6453.349\n",
       "Solsonès               896.000\n",
       "Tarragonès            9436.785\n",
       "Terra Alta            1361.000\n",
       "Urgell                2236.000\n",
       "Vallès Occidental    40713.447\n",
       "Vallès Oriental      18042.146\n",
       "Name: Homes, dtype: float64"
      ]
     },
     "execution_count": 54,
     "metadata": {},
     "output_type": "execute_result"
    }
   ],
   "source": [
    "Homes_comarca = df.groupby(['Comarca'])['Homes'].sum()\n",
    "Homes_comarca"
   ]
  },
  {
   "cell_type": "markdown",
   "metadata": {},
   "source": [
    "Ahora creamos un gráfico a través de los datos de las mujeres que hay y los hombres"
   ]
  },
  {
   "cell_type": "code",
   "execution_count": 55,
   "metadata": {},
   "outputs": [],
   "source": [
    "from matplotlib import pyplot as plt"
   ]
  },
  {
   "cell_type": "code",
   "execution_count": 60,
   "metadata": {
    "scrolled": false
   },
   "outputs": [
    {
     "data": {
      "image/png": "[encoded data removed]",
      "text/plain": [
       "<Figure size 432x288 with 1 Axes>"
      ]
     },
     "metadata": {
      "needs_background": "light"
     },
     "output_type": "display_data"
    }
   ],
   "source": [
    "plt.plot(Dones_comarca)\n",
    "plt.plot(Homes_comarca)\n",
    "plt.xticks(rotation=45)\n",
    "plt.show()"
   ]
  },
  {
   "cell_type": "markdown",
   "metadata": {},
   "source": [
    "Así finalizamos la práctica 4"
   ]
  }
 ],
 "metadata": {
  "kernelspec": {
   "display_name": "Python 3",
   "language": "python",
   "name": "python3"
  },
  "language_info": {
   "codemirror_mode": {
    "name": "ipython",
    "version": 3
   },
   "file_extension": ".py",
   "mimetype": "text/x-python",
   "name": "python",
   "nbconvert_exporter": "python",
   "pygments_lexer": "ipython3",
   "version": "3.8.10"
  }
 },
 "nbformat": 4,
 "nbformat_minor": 4
}
